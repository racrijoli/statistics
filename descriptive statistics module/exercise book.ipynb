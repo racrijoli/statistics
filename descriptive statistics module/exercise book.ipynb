{
 "cells": [
  {
   "cell_type": "markdown",
   "metadata": {},
   "source": [
    "# Primeiro Exercício da Aula 1"
   ]
  },
  {
   "cell_type": "code",
   "execution_count": 1,
   "metadata": {},
   "outputs": [],
   "source": [
    "#importando algumas bibliotecas que serão úteis\n",
    "import pandas as pd #manipular tabela\n",
    "import seaborn as sns #manipular grafico\n",
    "import numpy as np #operações numpy\n",
    "import matplotlib.pyplot as plt #manipular grafico"
   ]
  },
  {
   "cell_type": "code",
   "execution_count": 10,
   "metadata": {},
   "outputs": [
    {
     "data": {
      "text/html": [
       "<div>\n",
       "<style scoped>\n",
       "    .dataframe tbody tr th:only-of-type {\n",
       "        vertical-align: middle;\n",
       "    }\n",
       "\n",
       "    .dataframe tbody tr th {\n",
       "        vertical-align: top;\n",
       "    }\n",
       "\n",
       "    .dataframe thead th {\n",
       "        text-align: right;\n",
       "    }\n",
       "</style>\n",
       "<table border=\"1\" class=\"dataframe\">\n",
       "  <thead>\n",
       "    <tr style=\"text-align: right;\">\n",
       "      <th></th>\n",
       "      <th>Unnamed: 0</th>\n",
       "      <th>SalePrice</th>\n",
       "      <th>OverallQual</th>\n",
       "      <th>OverallCond</th>\n",
       "      <th>BedroomAbvGr</th>\n",
       "      <th>TotRmsAbvGrd</th>\n",
       "      <th>GrLivArea</th>\n",
       "      <th>TotalBsmtSF</th>\n",
       "      <th>YearBuilt</th>\n",
       "      <th>MSZoning</th>\n",
       "      <th>Utilities</th>\n",
       "      <th>BldgType</th>\n",
       "    </tr>\n",
       "  </thead>\n",
       "  <tbody>\n",
       "    <tr>\n",
       "      <th>0</th>\n",
       "      <td>0</td>\n",
       "      <td>208500</td>\n",
       "      <td>7</td>\n",
       "      <td>5</td>\n",
       "      <td>3</td>\n",
       "      <td>8</td>\n",
       "      <td>1710</td>\n",
       "      <td>856</td>\n",
       "      <td>2003</td>\n",
       "      <td>RL</td>\n",
       "      <td>AllPub</td>\n",
       "      <td>1Fam</td>\n",
       "    </tr>\n",
       "    <tr>\n",
       "      <th>1</th>\n",
       "      <td>1</td>\n",
       "      <td>181500</td>\n",
       "      <td>6</td>\n",
       "      <td>8</td>\n",
       "      <td>3</td>\n",
       "      <td>6</td>\n",
       "      <td>1262</td>\n",
       "      <td>1262</td>\n",
       "      <td>1976</td>\n",
       "      <td>RL</td>\n",
       "      <td>AllPub</td>\n",
       "      <td>1Fam</td>\n",
       "    </tr>\n",
       "    <tr>\n",
       "      <th>2</th>\n",
       "      <td>2</td>\n",
       "      <td>223500</td>\n",
       "      <td>7</td>\n",
       "      <td>5</td>\n",
       "      <td>3</td>\n",
       "      <td>6</td>\n",
       "      <td>1786</td>\n",
       "      <td>920</td>\n",
       "      <td>2001</td>\n",
       "      <td>RL</td>\n",
       "      <td>AllPub</td>\n",
       "      <td>1Fam</td>\n",
       "    </tr>\n",
       "    <tr>\n",
       "      <th>3</th>\n",
       "      <td>3</td>\n",
       "      <td>140000</td>\n",
       "      <td>7</td>\n",
       "      <td>5</td>\n",
       "      <td>3</td>\n",
       "      <td>7</td>\n",
       "      <td>1717</td>\n",
       "      <td>756</td>\n",
       "      <td>1915</td>\n",
       "      <td>RL</td>\n",
       "      <td>AllPub</td>\n",
       "      <td>1Fam</td>\n",
       "    </tr>\n",
       "    <tr>\n",
       "      <th>4</th>\n",
       "      <td>4</td>\n",
       "      <td>250000</td>\n",
       "      <td>8</td>\n",
       "      <td>5</td>\n",
       "      <td>4</td>\n",
       "      <td>9</td>\n",
       "      <td>2198</td>\n",
       "      <td>1145</td>\n",
       "      <td>2000</td>\n",
       "      <td>RL</td>\n",
       "      <td>AllPub</td>\n",
       "      <td>1Fam</td>\n",
       "    </tr>\n",
       "    <tr>\n",
       "      <th>...</th>\n",
       "      <td>...</td>\n",
       "      <td>...</td>\n",
       "      <td>...</td>\n",
       "      <td>...</td>\n",
       "      <td>...</td>\n",
       "      <td>...</td>\n",
       "      <td>...</td>\n",
       "      <td>...</td>\n",
       "      <td>...</td>\n",
       "      <td>...</td>\n",
       "      <td>...</td>\n",
       "      <td>...</td>\n",
       "    </tr>\n",
       "    <tr>\n",
       "      <th>1455</th>\n",
       "      <td>1455</td>\n",
       "      <td>175000</td>\n",
       "      <td>6</td>\n",
       "      <td>5</td>\n",
       "      <td>3</td>\n",
       "      <td>7</td>\n",
       "      <td>1647</td>\n",
       "      <td>953</td>\n",
       "      <td>1999</td>\n",
       "      <td>RL</td>\n",
       "      <td>AllPub</td>\n",
       "      <td>1Fam</td>\n",
       "    </tr>\n",
       "    <tr>\n",
       "      <th>1456</th>\n",
       "      <td>1456</td>\n",
       "      <td>210000</td>\n",
       "      <td>6</td>\n",
       "      <td>6</td>\n",
       "      <td>3</td>\n",
       "      <td>7</td>\n",
       "      <td>2073</td>\n",
       "      <td>1542</td>\n",
       "      <td>1978</td>\n",
       "      <td>RL</td>\n",
       "      <td>AllPub</td>\n",
       "      <td>1Fam</td>\n",
       "    </tr>\n",
       "    <tr>\n",
       "      <th>1457</th>\n",
       "      <td>1457</td>\n",
       "      <td>266500</td>\n",
       "      <td>7</td>\n",
       "      <td>9</td>\n",
       "      <td>4</td>\n",
       "      <td>9</td>\n",
       "      <td>2340</td>\n",
       "      <td>1152</td>\n",
       "      <td>1941</td>\n",
       "      <td>RL</td>\n",
       "      <td>AllPub</td>\n",
       "      <td>1Fam</td>\n",
       "    </tr>\n",
       "    <tr>\n",
       "      <th>1458</th>\n",
       "      <td>1458</td>\n",
       "      <td>142125</td>\n",
       "      <td>5</td>\n",
       "      <td>6</td>\n",
       "      <td>2</td>\n",
       "      <td>5</td>\n",
       "      <td>1078</td>\n",
       "      <td>1078</td>\n",
       "      <td>1950</td>\n",
       "      <td>RL</td>\n",
       "      <td>AllPub</td>\n",
       "      <td>1Fam</td>\n",
       "    </tr>\n",
       "    <tr>\n",
       "      <th>1459</th>\n",
       "      <td>1459</td>\n",
       "      <td>147500</td>\n",
       "      <td>5</td>\n",
       "      <td>6</td>\n",
       "      <td>3</td>\n",
       "      <td>6</td>\n",
       "      <td>1256</td>\n",
       "      <td>1256</td>\n",
       "      <td>1965</td>\n",
       "      <td>RL</td>\n",
       "      <td>AllPub</td>\n",
       "      <td>1Fam</td>\n",
       "    </tr>\n",
       "  </tbody>\n",
       "</table>\n",
       "<p>1460 rows × 12 columns</p>\n",
       "</div>"
      ],
      "text/plain": [
       "      Unnamed: 0  SalePrice  OverallQual  OverallCond  BedroomAbvGr  \\\n",
       "0              0     208500            7            5             3   \n",
       "1              1     181500            6            8             3   \n",
       "2              2     223500            7            5             3   \n",
       "3              3     140000            7            5             3   \n",
       "4              4     250000            8            5             4   \n",
       "...          ...        ...          ...          ...           ...   \n",
       "1455        1455     175000            6            5             3   \n",
       "1456        1456     210000            6            6             3   \n",
       "1457        1457     266500            7            9             4   \n",
       "1458        1458     142125            5            6             2   \n",
       "1459        1459     147500            5            6             3   \n",
       "\n",
       "      TotRmsAbvGrd  GrLivArea  TotalBsmtSF  YearBuilt MSZoning Utilities  \\\n",
       "0                8       1710          856       2003       RL    AllPub   \n",
       "1                6       1262         1262       1976       RL    AllPub   \n",
       "2                6       1786          920       2001       RL    AllPub   \n",
       "3                7       1717          756       1915       RL    AllPub   \n",
       "4                9       2198         1145       2000       RL    AllPub   \n",
       "...            ...        ...          ...        ...      ...       ...   \n",
       "1455             7       1647          953       1999       RL    AllPub   \n",
       "1456             7       2073         1542       1978       RL    AllPub   \n",
       "1457             9       2340         1152       1941       RL    AllPub   \n",
       "1458             5       1078         1078       1950       RL    AllPub   \n",
       "1459             6       1256         1256       1965       RL    AllPub   \n",
       "\n",
       "     BldgType  \n",
       "0        1Fam  \n",
       "1        1Fam  \n",
       "2        1Fam  \n",
       "3        1Fam  \n",
       "4        1Fam  \n",
       "...       ...  \n",
       "1455     1Fam  \n",
       "1456     1Fam  \n",
       "1457     1Fam  \n",
       "1458     1Fam  \n",
       "1459     1Fam  \n",
       "\n",
       "[1460 rows x 12 columns]"
      ]
     },
     "execution_count": 10,
     "metadata": {},
     "output_type": "execute_result"
    }
   ],
   "source": [
    "df = pd.read_csv(\"/workspaces/statistics/descriptive statistics module/house_price.csv\")\n",
    "df"
   ]
  },
  {
   "cell_type": "code",
   "execution_count": 11,
   "metadata": {},
   "outputs": [
    {
     "name": "stdout",
     "output_type": "stream",
     "text": [
      "<class 'pandas.core.frame.DataFrame'>\n",
      "RangeIndex: 1460 entries, 0 to 1459\n",
      "Data columns (total 12 columns):\n",
      " #   Column        Non-Null Count  Dtype \n",
      "---  ------        --------------  ----- \n",
      " 0   Unnamed: 0    1460 non-null   int64 \n",
      " 1   SalePrice     1460 non-null   int64 \n",
      " 2   OverallQual   1460 non-null   int64 \n",
      " 3   OverallCond   1460 non-null   int64 \n",
      " 4   BedroomAbvGr  1460 non-null   int64 \n",
      " 5   TotRmsAbvGrd  1460 non-null   int64 \n",
      " 6   GrLivArea     1460 non-null   int64 \n",
      " 7   TotalBsmtSF   1460 non-null   int64 \n",
      " 8   YearBuilt     1460 non-null   int64 \n",
      " 9   MSZoning      1460 non-null   object\n",
      " 10  Utilities     1460 non-null   object\n",
      " 11  BldgType      1460 non-null   object\n",
      "dtypes: int64(9), object(3)\n",
      "memory usage: 137.0+ KB\n"
     ]
    }
   ],
   "source": [
    "df.info()"
   ]
  },
  {
   "cell_type": "code",
   "execution_count": 12,
   "metadata": {},
   "outputs": [
    {
     "data": {
      "text/plain": [
       "Unnamed: 0      0\n",
       "SalePrice       0\n",
       "OverallQual     0\n",
       "OverallCond     0\n",
       "BedroomAbvGr    0\n",
       "TotRmsAbvGrd    0\n",
       "GrLivArea       0\n",
       "TotalBsmtSF     0\n",
       "YearBuilt       0\n",
       "MSZoning        0\n",
       "Utilities       0\n",
       "BldgType        0\n",
       "dtype: int64"
      ]
     },
     "execution_count": 12,
     "metadata": {},
     "output_type": "execute_result"
    }
   ],
   "source": [
    "df.isnull().sum()"
   ]
  },
  {
   "cell_type": "code",
   "execution_count": 21,
   "metadata": {},
   "outputs": [
    {
     "name": "stdout",
     "output_type": "stream",
     "text": [
      "mean: 180921.19589041095 , median: 163000.0 , mode: 0    140000\n",
      "Name: SalePrice, dtype: int64\n"
     ]
    }
   ],
   "source": [
    "mean = df['SalePrice'].mean()\n",
    "median = df['SalePrice'].median()\n",
    "mode = df['SalePrice'].mode()\n",
    "\n",
    "print('mean:', mean, ', median:', median, ', mode:', mode)"
   ]
  },
  {
   "cell_type": "code",
   "execution_count": 26,
   "metadata": {},
   "outputs": [
    {
     "data": {
      "text/plain": [
       "count      1460.000000\n",
       "mean     180921.195890\n",
       "std       79442.502883\n",
       "min       34900.000000\n",
       "25%      129975.000000\n",
       "50%      163000.000000\n",
       "75%      214000.000000\n",
       "max      755000.000000\n",
       "Name: SalePrice, dtype: float64"
      ]
     },
     "execution_count": 26,
     "metadata": {},
     "output_type": "execute_result"
    }
   ],
   "source": [
    "df['SalePrice'].describe()"
   ]
  },
  {
   "cell_type": "code",
   "execution_count": 27,
   "metadata": {},
   "outputs": [
    {
     "data": {
      "text/html": [
       "<div>\n",
       "<style scoped>\n",
       "    .dataframe tbody tr th:only-of-type {\n",
       "        vertical-align: middle;\n",
       "    }\n",
       "\n",
       "    .dataframe tbody tr th {\n",
       "        vertical-align: top;\n",
       "    }\n",
       "\n",
       "    .dataframe thead th {\n",
       "        text-align: right;\n",
       "    }\n",
       "</style>\n",
       "<table border=\"1\" class=\"dataframe\">\n",
       "  <thead>\n",
       "    <tr style=\"text-align: right;\">\n",
       "      <th></th>\n",
       "      <th>Unnamed: 0</th>\n",
       "      <th>SalePrice</th>\n",
       "      <th>OverallQual</th>\n",
       "      <th>OverallCond</th>\n",
       "      <th>BedroomAbvGr</th>\n",
       "      <th>TotRmsAbvGrd</th>\n",
       "      <th>GrLivArea</th>\n",
       "      <th>TotalBsmtSF</th>\n",
       "      <th>YearBuilt</th>\n",
       "    </tr>\n",
       "  </thead>\n",
       "  <tbody>\n",
       "    <tr>\n",
       "      <th>count</th>\n",
       "      <td>1460.000000</td>\n",
       "      <td>1460.000000</td>\n",
       "      <td>1460.000000</td>\n",
       "      <td>1460.000000</td>\n",
       "      <td>1460.000000</td>\n",
       "      <td>1460.000000</td>\n",
       "      <td>1460.000000</td>\n",
       "      <td>1460.000000</td>\n",
       "      <td>1460.000000</td>\n",
       "    </tr>\n",
       "    <tr>\n",
       "      <th>mean</th>\n",
       "      <td>729.500000</td>\n",
       "      <td>180921.195890</td>\n",
       "      <td>6.099315</td>\n",
       "      <td>5.575342</td>\n",
       "      <td>2.866438</td>\n",
       "      <td>6.517808</td>\n",
       "      <td>1515.463699</td>\n",
       "      <td>1057.429452</td>\n",
       "      <td>1971.267808</td>\n",
       "    </tr>\n",
       "    <tr>\n",
       "      <th>std</th>\n",
       "      <td>421.610009</td>\n",
       "      <td>79442.502883</td>\n",
       "      <td>1.382997</td>\n",
       "      <td>1.112799</td>\n",
       "      <td>0.815778</td>\n",
       "      <td>1.625393</td>\n",
       "      <td>525.480383</td>\n",
       "      <td>438.705324</td>\n",
       "      <td>30.202904</td>\n",
       "    </tr>\n",
       "    <tr>\n",
       "      <th>min</th>\n",
       "      <td>0.000000</td>\n",
       "      <td>34900.000000</td>\n",
       "      <td>1.000000</td>\n",
       "      <td>1.000000</td>\n",
       "      <td>0.000000</td>\n",
       "      <td>2.000000</td>\n",
       "      <td>334.000000</td>\n",
       "      <td>0.000000</td>\n",
       "      <td>1872.000000</td>\n",
       "    </tr>\n",
       "    <tr>\n",
       "      <th>25%</th>\n",
       "      <td>364.750000</td>\n",
       "      <td>129975.000000</td>\n",
       "      <td>5.000000</td>\n",
       "      <td>5.000000</td>\n",
       "      <td>2.000000</td>\n",
       "      <td>5.000000</td>\n",
       "      <td>1129.500000</td>\n",
       "      <td>795.750000</td>\n",
       "      <td>1954.000000</td>\n",
       "    </tr>\n",
       "    <tr>\n",
       "      <th>50%</th>\n",
       "      <td>729.500000</td>\n",
       "      <td>163000.000000</td>\n",
       "      <td>6.000000</td>\n",
       "      <td>5.000000</td>\n",
       "      <td>3.000000</td>\n",
       "      <td>6.000000</td>\n",
       "      <td>1464.000000</td>\n",
       "      <td>991.500000</td>\n",
       "      <td>1973.000000</td>\n",
       "    </tr>\n",
       "    <tr>\n",
       "      <th>75%</th>\n",
       "      <td>1094.250000</td>\n",
       "      <td>214000.000000</td>\n",
       "      <td>7.000000</td>\n",
       "      <td>6.000000</td>\n",
       "      <td>3.000000</td>\n",
       "      <td>7.000000</td>\n",
       "      <td>1776.750000</td>\n",
       "      <td>1298.250000</td>\n",
       "      <td>2000.000000</td>\n",
       "    </tr>\n",
       "    <tr>\n",
       "      <th>max</th>\n",
       "      <td>1459.000000</td>\n",
       "      <td>755000.000000</td>\n",
       "      <td>10.000000</td>\n",
       "      <td>9.000000</td>\n",
       "      <td>8.000000</td>\n",
       "      <td>14.000000</td>\n",
       "      <td>5642.000000</td>\n",
       "      <td>6110.000000</td>\n",
       "      <td>2010.000000</td>\n",
       "    </tr>\n",
       "  </tbody>\n",
       "</table>\n",
       "</div>"
      ],
      "text/plain": [
       "        Unnamed: 0      SalePrice  OverallQual  OverallCond  BedroomAbvGr  \\\n",
       "count  1460.000000    1460.000000  1460.000000  1460.000000   1460.000000   \n",
       "mean    729.500000  180921.195890     6.099315     5.575342      2.866438   \n",
       "std     421.610009   79442.502883     1.382997     1.112799      0.815778   \n",
       "min       0.000000   34900.000000     1.000000     1.000000      0.000000   \n",
       "25%     364.750000  129975.000000     5.000000     5.000000      2.000000   \n",
       "50%     729.500000  163000.000000     6.000000     5.000000      3.000000   \n",
       "75%    1094.250000  214000.000000     7.000000     6.000000      3.000000   \n",
       "max    1459.000000  755000.000000    10.000000     9.000000      8.000000   \n",
       "\n",
       "       TotRmsAbvGrd    GrLivArea  TotalBsmtSF    YearBuilt  \n",
       "count   1460.000000  1460.000000  1460.000000  1460.000000  \n",
       "mean       6.517808  1515.463699  1057.429452  1971.267808  \n",
       "std        1.625393   525.480383   438.705324    30.202904  \n",
       "min        2.000000   334.000000     0.000000  1872.000000  \n",
       "25%        5.000000  1129.500000   795.750000  1954.000000  \n",
       "50%        6.000000  1464.000000   991.500000  1973.000000  \n",
       "75%        7.000000  1776.750000  1298.250000  2000.000000  \n",
       "max       14.000000  5642.000000  6110.000000  2010.000000  "
      ]
     },
     "execution_count": 27,
     "metadata": {},
     "output_type": "execute_result"
    }
   ],
   "source": [
    "df.describe()"
   ]
  },
  {
   "cell_type": "code",
   "execution_count": 33,
   "metadata": {},
   "outputs": [
    {
     "data": {
      "text/plain": [
       "Index(['Unnamed: 0', 'SalePrice', 'OverallQual', 'OverallCond', 'BedroomAbvGr',\n",
       "       'TotRmsAbvGrd', 'GrLivArea', 'TotalBsmtSF', 'YearBuilt', 'MSZoning',\n",
       "       'Utilities', 'BldgType', 'PriceCategory'],\n",
       "      dtype='object')"
      ]
     },
     "execution_count": 33,
     "metadata": {},
     "output_type": "execute_result"
    }
   ],
   "source": [
    "df.columns"
   ]
  },
  {
   "cell_type": "code",
   "execution_count": 38,
   "metadata": {},
   "outputs": [
    {
     "name": "stdout",
     "output_type": "stream",
     "text": [
      "Média: PriceCategory\n",
      "barata    5.588342\n",
      "cara      7.649171\n",
      "Name: OverallQual, dtype: float64\n",
      "Mediana: PriceCategory\n",
      "barata    6.0\n",
      "cara      8.0\n",
      "Name: OverallQual, dtype: float64\n"
     ]
    },
    {
     "data": {
      "text/plain": [
       "([0, 1], [Text(0, 0, 'barata'), Text(1, 0, 'cara')])"
      ]
     },
     "execution_count": 38,
     "metadata": {},
     "output_type": "execute_result"
    },
    {
     "data": {
      "image/png": "[encoded data removed]",
      "text/plain": [
       "<Figure size 640x480 with 1 Axes>"
      ]
     },
     "metadata": {},
     "output_type": "display_data"
    }
   ],
   "source": [
    "fig = sns.boxplot(x = \"PriceCategory\", y = \"OverallQual\", data = df)\n",
    "\n",
    "print('Média:', df.groupby('PriceCategory')['OverallQual'].mean())\n",
    "print('Mediana:', df.groupby('PriceCategory')['OverallQual'].median())\n",
    "\n",
    "plt.xticks(rotation = 90)"
   ]
  },
  {
   "cell_type": "code",
   "execution_count": 39,
   "metadata": {},
   "outputs": [
    {
     "name": "stdout",
     "output_type": "stream",
     "text": [
      "Média: PriceCategory\n",
      "barata    5.631148\n",
      "cara      5.406077\n",
      "Name: OverallCond, dtype: float64\n",
      "Mediana: PriceCategory\n",
      "barata    5.0\n",
      "cara      5.0\n",
      "Name: OverallCond, dtype: float64\n"
     ]
    },
    {
     "data": {
      "text/plain": [
       "([0, 1], [Text(0, 0, 'barata'), Text(1, 0, 'cara')])"
      ]
     },
     "execution_count": 39,
     "metadata": {},
     "output_type": "execute_result"
    },
    {
     "data": {
      "image/png": "[encoded data removed]",
      "text/plain": [
       "<Figure size 640x480 with 1 Axes>"
      ]
     },
     "metadata": {},
     "output_type": "display_data"
    }
   ],
   "source": [
    "fig = sns.boxplot(x = \"PriceCategory\", y = \"OverallCond\", data = df)\n",
    "\n",
    "print('Média:', df.groupby('PriceCategory')['OverallCond'].mean())\n",
    "print('Mediana:', df.groupby('PriceCategory')['OverallCond'].median())\n",
    "\n",
    "plt.xticks(rotation = 90)"
   ]
  },
  {
   "cell_type": "code",
   "execution_count": null,
   "metadata": {},
   "outputs": [],
   "source": []
  }
 ],
 "metadata": {
  "kernelspec": {
   "display_name": "Python 3",
   "language": "python",
   "name": "python3"
  },
  "language_info": {
   "codemirror_mode": {
    "name": "ipython",
    "version": 3
   },
   "file_extension": ".py",
   "mimetype": "text/x-python",
   "name": "python",
   "nbconvert_exporter": "python",
   "pygments_lexer": "ipython3",
   "version": "3.10.13"
  }
 },
 "nbformat": 4,
 "nbformat_minor": 2
}
