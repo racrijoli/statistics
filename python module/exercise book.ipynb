{
 "cells": [
  {
   "cell_type": "code",
   "execution_count": 9,
   "metadata": {},
   "outputs": [
    {
     "data": {
      "text/plain": [
       "3.1622776601683795"
      ]
     },
     "execution_count": 9,
     "metadata": {},
     "output_type": "execute_result"
    }
   ],
   "source": [
    "# assim se calcula raiz quadrada\n",
    "\n",
    "10**(1/2)"
   ]
  },
  {
   "cell_type": "markdown",
   "metadata": {},
   "source": [
    "# Funções para explorar dados."
   ]
  },
  {
   "cell_type": "code",
   "execution_count": null,
   "metadata": {},
   "outputs": [],
   "source": [
    "df.info()\n",
    "df.describe()\n",
    "df.isna().sum()\n",
    "df.value_counts()\n",
    "df['artist'].unique() # retorna os valores únicos dessa coluna.\n",
    "df['artist'].nunique() # retorna o número de valores únicos.\n",
    "df.shape\n",
    "df.size\n",
    "df.columns\n",
    "df.memory_usage()\n",
    "df.nsmallest(3, 'dnce') # retorna os três menores valores da coluna dnce.\n",
    "df.nlargest(3, 'dnce')\n",
    "df.drop_duplicates(subset = ['title'], keep = 'last') # deleta registros duplicados e mantém o mais recente.\n",
    "df.fillna(0)\n",
    "df.T # transpõe a tabela\n",
    "df.sample(n = 10) # pega dez registros aleatórios do dataframe.\n",
    "len(df)\n"
   ]
  },
  {
   "cell_type": "markdown",
   "metadata": {},
   "source": [
    "# Como encontrar valores específicos no dataframe."
   ]
  },
  {
   "cell_type": "code",
   "execution_count": null,
   "metadata": {},
   "outputs": [],
   "source": [
    "df.query(\"artist == 'Ariana Grande'\") # aqui tem que usar aspas duplas pois precisa de aspas simples no nome da artista. Se não fizer isso não funciona.\n",
    "df.loc[df['artist'] == \"Ariana Grande\"]\n",
    "df.filter(like = 'Ariana')\n",
    "df.isin(['Ariana Grand', 'Maroon 5', 'DNCE'])\n",
    "(df['artist'] == 'QUEEN').any()"
   ]
  },
  {
   "cell_type": "markdown",
   "metadata": {},
   "source": [
    "# Operações com dataframe"
   ]
  },
  {
   "cell_type": "code",
   "execution_count": null,
   "metadata": {},
   "outputs": [],
   "source": [
    "df.drop(columns = ['pop'])\n",
    "df['acous'].mean()\n",
    "df['acous'].min()\n",
    "df['acous'].max()\n",
    "df.agg({'acous': 'mean', 'dur': 'max'})\n",
    "df['dur'].cumsum() # soma cumulativa.\n",
    "df.sort_values(by = 'dur', ascending = False)\n",
    "df['bpm'].astype(str)\n",
    "pd.get_dummies(df, columns = ['artist'])\n",
    "df.assign(dnce_nrgy = lambda df: df['dnce'] * df['nrgy']) # cria nova coluna que é o produto da multiplicação de outras duas colunas.\n",
    "df.groupby('artist').count()\n",
    "df.groupby('artist')['title'].count()\n",
    "df.groupby('artist')['title', 'year'].count()\n",
    "df.groupby(['artist', 'year']).agg({'year': 'count', 'dur': 'mean'})\n",
    "df_grouped = df.groupby('year')\n",
    "df_grouped.ngroups\n",
    "df_grouped.groups\n",
    "df_grouped_size()\n",
    "df_grouped.get_group(2015)"
   ]
  },
  {
   "cell_type": "markdown",
   "metadata": {},
   "source": [
    "# Merging datasets"
   ]
  },
  {
   "cell_type": "code",
   "execution_count": null,
   "metadata": {},
   "outputs": [],
   "source": [
    "df.merge(df2, left_on = 'artist', right_on = 'Artists', how = 'left') # relembrar left, right, inner do SQL nessa parte.\n",
    "df.merge(df2, left_on = 'artist', right_on = 'Artist', how = 'left', indicator = True) # indica de qual dataset veio cada coluna.\n",
    "df.join(df2)\n",
    "df.append(df2) # aqui se junta os datasets pelas linhas, se não tiver determinada coluna no dataset que foi \"apendado\", aparece um NaN na coluna.\n",
    "df.corr()\n",
    "df.groupby('artist')['title', 'year'].count().reset_index() # mostrar mais sobre concatenação de funções no pandas.\n",
    "df[:13].style.background_gradient(axis = 0, cmap = 'YlOrRd')\n",
    "\n"
   ]
  }
 ],
 "metadata": {
  "kernelspec": {
   "display_name": "Python 3",
   "language": "python",
   "name": "python3"
  },
  "language_info": {
   "codemirror_mode": {
    "name": "ipython",
    "version": 3
   },
   "file_extension": ".py",
   "mimetype": "text/x-python",
   "name": "python",
   "nbconvert_exporter": "python",
   "pygments_lexer": "ipython3",
   "version": "3.10.13"
  }
 },
 "nbformat": 4,
 "nbformat_minor": 2
}
