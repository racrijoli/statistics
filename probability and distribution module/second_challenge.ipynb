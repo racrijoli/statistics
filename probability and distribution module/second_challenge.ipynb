{
 "cells": [
  {
   "cell_type": "markdown",
   "metadata": {},
   "source": [
    "# Probability and Distribution\n",
    "### A fair six-sided die is rolled twice. What is the probability of getting an even number on the first roll and an odd number on the second roll?"
   ]
  },
  {
   "cell_type": "code",
   "execution_count": 3,
   "metadata": {},
   "outputs": [
    {
     "name": "stdout",
     "output_type": "stream",
     "text": [
      "The probability is: 25.0%\n"
     ]
    }
   ],
   "source": [
    "# A dice has the following numbers: 1, 2, 3, 4, 5, 6.\n",
    "p1 = 3/6 * 3/6\n",
    "print(f\"The probability is: {p1 * 100}%\")"
   ]
  },
  {
   "cell_type": "markdown",
   "metadata": {},
   "source": [
    "### A fair die is rolled repeatedly until a number greater than 4 is observed. What is the probability that it takes 4 rolls to get a number greater than 4?"
   ]
  },
  {
   "cell_type": "code",
   "execution_count": 4,
   "metadata": {},
   "outputs": [
    {
     "name": "stdout",
     "output_type": "stream",
     "text": [
      "The probability is: 9.876543209876543%\n"
     ]
    }
   ],
   "source": [
    "p2 = 4/6 * 4/6 * 4/6 * 2/6\n",
    "print(f\"The probability is: {p2 * 100}%\")"
   ]
  },
  {
   "cell_type": "markdown",
   "metadata": {},
   "source": [
    "### In a school, 60% of the students study Mathematics and 40% study Science. Knowing that 30% of the students study both Mathematics and Science, what is the probability of selecting a student at random and having him study only one of the two subjects?"
   ]
  },
  {
   "cell_type": "code",
   "execution_count": 10,
   "metadata": {},
   "outputs": [
    {
     "name": "stdout",
     "output_type": "stream",
     "text": [
      "The probability is 40.0%\n"
     ]
    }
   ],
   "source": [
    "# Initially I thought that if there are 100 students, then 60 study Math, 40 study Science and 30 study both.\n",
    "# p3 = 7/10\n",
    "# print(f\"The probability is: {p3 * 100}%\")\n",
    "\n",
    "# But then I checked the resolution notes and saw that there is a catch. The percentage of students who take Math and\n",
    "# who take Science classes, 60% and 40%, includes both people who only study those subjects and people who study both.\n",
    "# I had made a mistake already because the formula for this situation would be p3 = probability of studying Math +\n",
    "# probability of studying Science - probability of studying both. But, given that there is this catch I mentioned, the\n",
    "# formula should be adapted to p3 = probability of studying Math + probability of studying Science - 2 * probability of\n",
    "# studying both, because then you would avoid double counting students who study both subjects.\n",
    "\n",
    "# So this is the correct resolution:\n",
    "p3 = 6/10 + 4/10 - 2 * 3/10\n",
    "print(f\"The probability is {p3 * 100}%\")"
   ]
  },
  {
   "cell_type": "markdown",
   "metadata": {},
   "source": [
    "### In a standard deck of 52 cards, what is the probability of drawing a diamond and then a spade, if the cards are drawn with replacement?"
   ]
  },
  {
   "cell_type": "code",
   "execution_count": 12,
   "metadata": {},
   "outputs": [
    {
     "name": "stdout",
     "output_type": "stream",
     "text": [
      "The probability is: 6.25%\n"
     ]
    }
   ],
   "source": [
    "# Probability of drawing a diamond: 13/52\n",
    "# Probability of drawing a spade: 13/52\n",
    "\n",
    "# Well, if there is replacement, the answer we would be looking for is:\n",
    "p4 = 13/52 * 13/52\n",
    "print(f\"The probability is: {p4 *100}%\")"
   ]
  },
  {
   "cell_type": "markdown",
   "metadata": {},
   "source": [
    "### A technology company produces two models of smartphones: A and B. It is known that 60% of customers choose model A and 40% choose model B. Furthermore, it is known that 5% of customers who buy model A report technical problems, while 10% of customers who buy model B report technical problems. If a randomly selected customer reports technical problems, what is the probability that he or she chose model A?"
   ]
  },
  {
   "cell_type": "markdown",
   "metadata": {},
   "source": [
    "### A medical clinic performs two tests (Test A and Test B) to diagnose a disease. It is known that Test A correctly detects the disease in 95% of cases in which it is present, but it can also give a positive result in 10% of cases in which the person is healthy. Test B, on the other hand, has a 90% accuracy rate for detecting the disease and a 5% false positive rate. If a patient tests positive in both tests, what is the probability that he or she actually has the disease? Consider that the probability of a person developing the disease is 0.1."
   ]
  },
  {
   "cell_type": "markdown",
   "metadata": {},
   "source": [
    "### An electronics store offers three models of smartphones (A, B, and C) and customers can choose one of the three models. It is known that 50% of customers choose model A, 30% choose model B, and 20% choose model C. In addition, the store has an extended warranty policy, where 10% of customers who choose model A purchase the extended warranty, 15% of customers who choose model B purchase the extended warranty, and 20% of customers who choose model C purchase the extended warranty. If a customer is randomly selected, what is the probability that he or she will purchase the extended warranty?"
   ]
  },
  {
   "cell_type": "markdown",
   "metadata": {},
   "source": [
    "### Plus: What is the difference between probability and likelihood?"
   ]
  },
  {
   "cell_type": "markdown",
   "metadata": {},
   "source": [
    "### Imagine that Jeremy took an exam. The test has a mean score of 160 and a standard deviation of 15. If Jeremy's z-score is 1.20, what would his score be on the test? Write the rationale for the calculation."
   ]
  }
 ],
 "metadata": {
  "kernelspec": {
   "display_name": "Python 3",
   "language": "python",
   "name": "python3"
  },
  "language_info": {
   "codemirror_mode": {
    "name": "ipython",
    "version": 3
   },
   "file_extension": ".py",
   "mimetype": "text/x-python",
   "name": "python",
   "nbconvert_exporter": "python",
   "pygments_lexer": "ipython3",
   "version": "3.12.1"
  }
 },
 "nbformat": 4,
 "nbformat_minor": 2
}
