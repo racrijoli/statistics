{
 "cells": [
  {
   "cell_type": "markdown",
   "metadata": {},
   "source": [
    "# Probability and Distribution\n",
    "### A fair six-sided die is rolled twice. What is the probability of getting an even number on the first roll and an odd number on the second roll?"
   ]
  },
  {
   "cell_type": "markdown",
   "metadata": {},
   "source": [
    "### A fair die is rolled repeatedly until a number greater than 4 is observed. What is the probability that it takes 4 rolls to get a number greater than 4?"
   ]
  },
  {
   "cell_type": "markdown",
   "metadata": {},
   "source": [
    "### In a school, 60% of the students study Mathematics and 40% study Science. Knowing that 30% of the students study both Mathematics and Science, what is the probability of selecting a student at random and having him study only one of the two subjects?"
   ]
  },
  {
   "cell_type": "markdown",
   "metadata": {},
   "source": [
    "### In a standard deck of 52 cards, what is the probability of drawing a diamond and then a spade, if the cards are drawn with replacement?"
   ]
  },
  {
   "cell_type": "markdown",
   "metadata": {},
   "source": [
    "### A technology company produces two models of smartphones: A and B. It is known that 60% of customers choose model A and 40% choose model B. Furthermore, it is known that 5% of customers who buy model A report technical problems, while 10% of customers who buy model B report technical problems. If a randomly selected customer reports technical problems, what is the probability that he or she chose model A?"
   ]
  },
  {
   "cell_type": "markdown",
   "metadata": {},
   "source": [
    "### A medical clinic performs two tests (Test A and Test B) to diagnose a disease. It is known that Test A correctly detects the disease in 95% of cases in which it is present, but it can also give a positive result in 10% of cases in which the person is healthy. Test B, on the other hand, has a 90% accuracy rate for detecting the disease and a 5% false positive rate. If a patient tests positive in both tests, what is the probability that he or she actually has the disease? Consider that the probability of a person developing the disease is 0.1."
   ]
  },
  {
   "cell_type": "markdown",
   "metadata": {},
   "source": [
    "### An electronics store offers three models of smartphones (A, B, and C) and customers can choose one of the three models. It is known that 50% of customers choose model A, 30% choose model B, and 20% choose model C. In addition, the store has an extended warranty policy, where 10% of customers who choose model A purchase the extended warranty, 15% of customers who choose model B purchase the extended warranty, and 20% of customers who choose model C purchase the extended warranty. If a customer is randomly selected, what is the probability that he or she will purchase the extended warranty?"
   ]
  },
  {
   "cell_type": "markdown",
   "metadata": {},
   "source": [
    "### Plus: What is the difference between probability and likelihood?"
   ]
  },
  {
   "cell_type": "markdown",
   "metadata": {},
   "source": [
    "### Imagine that Jeremy took an exam. The test has a mean score of 160 and a standard deviation of 15. If Jeremy's z-score is 1.20, what would his score be on the test? Write the rationale for the calculation."
   ]
  }
 ],
 "metadata": {
  "language_info": {
   "name": "python"
  }
 },
 "nbformat": 4,
 "nbformat_minor": 2
}
